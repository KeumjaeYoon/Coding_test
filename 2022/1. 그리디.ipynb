{
 "cells": [
  {
   "cell_type": "markdown",
   "id": "dc63131a",
   "metadata": {},
   "source": [
    "# 그리디"
   ]
  },
  {
   "cell_type": "markdown",
   "id": "c6d8c0d7",
   "metadata": {},
   "source": [
    "- 현재 상황에서 지금 당장 좋아보이는 것만 고르는 방법\n",
    "\n",
    "- 정당성 분석이 중요"
   ]
  },
  {
   "cell_type": "markdown",
   "id": "49223d3f",
   "metadata": {},
   "source": [
    "## 거스름돈\n",
    "\n",
    "- 1260원을 500, 100, 50, 10원으로 돌려줄 때, 거슬러 줘야할 동전의 최소 개수를 구하는 프로그램"
   ]
  },
  {
   "cell_type": "code",
   "execution_count": 16,
   "id": "9e2c8e1a",
   "metadata": {
    "ExecuteTime": {
     "end_time": "2022-07-04T08:20:20.321217Z",
     "start_time": "2022-07-04T08:20:20.312810Z"
    }
   },
   "outputs": [
    {
     "name": "stdout",
     "output_type": "stream",
     "text": [
      "6\n"
     ]
    }
   ],
   "source": [
    "n = 1260\n",
    "count = 0\n",
    "\n",
    "for i in [500, 100, 50, 10]:\n",
    "    count += n//i\n",
    "    n = n%i\n",
    "    \n",
    "print(count)"
   ]
  },
  {
   "cell_type": "markdown",
   "id": "4fe750c3",
   "metadata": {},
   "source": [
    "- 화폐의 종류가 K라고 할 때, 소스코드의 시간 복잡도는 O(K)"
   ]
  },
  {
   "cell_type": "markdown",
   "id": "eb9c6743",
   "metadata": {
    "ExecuteTime": {
     "end_time": "2022-07-04T07:59:12.041663Z",
     "start_time": "2022-07-04T07:59:12.033837Z"
    }
   },
   "source": [
    "## 1이 될 때까지"
   ]
  },
  {
   "cell_type": "markdown",
   "id": "d8f9b8d9",
   "metadata": {},
   "source": [
    "어떠한 수 N이 1이 될 때까지 다음의 두 과정 중 하나를 반복적으로 선택하여 수행\n",
    "\n",
    "단, 두 번째 연산은 N이 K로 나누어 떨어질 때만 선택할 수 있다\n",
    "1. N에서 1을 뺀다\n",
    "2. N을 K로 나눈다\n",
    "\n",
    "N과 K가 주어질 때, N이 1이 될 때까지 1번 혹은 2번의 과정을 수행해야 하는 최소 횟수를 구하는 프로그램"
   ]
  },
  {
   "cell_type": "code",
   "execution_count": 26,
   "id": "75f681be",
   "metadata": {
    "ExecuteTime": {
     "end_time": "2022-07-04T08:29:59.007799Z",
     "start_time": "2022-07-04T08:29:55.944411Z"
    }
   },
   "outputs": [
    {
     "name": "stdout",
     "output_type": "stream",
     "text": [
      "n : 253\n",
      "k : 3\n",
      "7\n"
     ]
    }
   ],
   "source": [
    "n = int(input('n : '))\n",
    "k = int(input('k : '))\n",
    "i = 0\n",
    "\n",
    "while True:\n",
    "    if n%k == 0:\n",
    "        n = n//k\n",
    "        i += 1\n",
    "        \n",
    "    else:\n",
    "        n -= 1\n",
    "        i += 1\n",
    "        \n",
    "    if n == 1:\n",
    "        break\n",
    "        \n",
    "print(i)"
   ]
  },
  {
   "cell_type": "markdown",
   "id": "2a06d1ff",
   "metadata": {},
   "source": [
    "###### 한 번에 k에 나누어 떨어지는 n을 찾음으로써 반복 횟수를 줄여 계산 속도 향상"
   ]
  },
  {
   "cell_type": "code",
   "execution_count": 28,
   "id": "def48436",
   "metadata": {
    "ExecuteTime": {
     "end_time": "2022-07-04T08:30:06.571545Z",
     "start_time": "2022-07-04T08:30:04.670115Z"
    }
   },
   "outputs": [
    {
     "name": "stdout",
     "output_type": "stream",
     "text": [
      "253 3\n",
      "7\n"
     ]
    }
   ],
   "source": [
    "n, k = map(int, input().split())\n",
    "result = 0\n",
    "\n",
    "while True:\n",
    "    target = (n//k)*k\n",
    "    result += n - target\n",
    "    n = target\n",
    "    if n < k:\n",
    "        break\n",
    "    result += 1\n",
    "    n = n//k\n",
    "\n",
    "result += n-1\n",
    "print(result)"
   ]
  },
  {
   "cell_type": "markdown",
   "id": "a4f93690",
   "metadata": {},
   "source": [
    "## 곱하기 혹은 더하기"
   ]
  },
  {
   "cell_type": "markdown",
   "id": "38010f34",
   "metadata": {},
   "source": [
    "각 자리가 숫자(0부터 9)로만 이루어진 문자열 S가 주어졌을 때, 왼쪽부터 오른쪽으로 하나씩 모든 숫자를 확인하며 숫자 사이에 'x' or '+' 연산자를 넣어 결과적으로 만들어질 수 있는 가장 큰 수를 구하는 프로그램\n",
    "\n",
    "단, 사칙연산 기준이 아닌 모든 연산은 왼쪽에서부터 순서대로 이루어짐"
   ]
  },
  {
   "cell_type": "code",
   "execution_count": 46,
   "id": "8a4276d1",
   "metadata": {
    "ExecuteTime": {
     "end_time": "2022-07-04T11:53:23.164532Z",
     "start_time": "2022-07-04T11:53:20.110315Z"
    }
   },
   "outputs": [
    {
     "name": "stdout",
     "output_type": "stream",
     "text": [
      "002548\n",
      "320\n"
     ]
    }
   ],
   "source": [
    "n = input()\n",
    "first = int(n[0])\n",
    "\n",
    "for i in range(1, len(n)):\n",
    "    num = int(n[i])\n",
    "    \n",
    "    if num <= 1 or first <= 1:\n",
    "        first += num\n",
    "    \n",
    "    else:\n",
    "        first *= num\n",
    "\n",
    "print(first)"
   ]
  },
  {
   "cell_type": "markdown",
   "id": "d8089910",
   "metadata": {},
   "source": [
    "##### 두 수 중 하나라도 1이하라면 덧셈, 두 수가 2이상이면 곱셈"
   ]
  },
  {
   "cell_type": "markdown",
   "id": "c00cf70f",
   "metadata": {},
   "source": [
    "## 모험가 길드"
   ]
  },
  {
   "cell_type": "markdown",
   "id": "50696979",
   "metadata": {},
   "source": [
    "한 마을에 모험가가 N명 존재.\n",
    "\n",
    "공포도가 X인 모험가는 반드시 X명 이상으로 구성한 모험가 그룹에 참여.\n",
    "\n",
    "N명의 모험가에 대한 정보가 주어졌을 때, 여행을 떠날 수 있는 그룹 수의 최댓값을 구하는 프로그램"
   ]
  },
  {
   "cell_type": "code",
   "execution_count": 83,
   "id": "977262bf",
   "metadata": {
    "ExecuteTime": {
     "end_time": "2022-07-04T13:44:50.500912Z",
     "start_time": "2022-07-04T13:44:41.723629Z"
    },
    "scrolled": true
   },
   "outputs": [
    {
     "name": "stdout",
     "output_type": "stream",
     "text": [
      "5\n",
      "4 1 4 2 3\n",
      "2\n"
     ]
    }
   ],
   "source": [
    "n = int(input())\n",
    "data = list(map(int, input().split()))\n",
    "data.sort()\n",
    "\n",
    "result = 0\n",
    "count = 0\n",
    "\n",
    "for i in data:\n",
    "    count += 1\n",
    "    if count >= i:\n",
    "        result += 1\n",
    "        count = 0\n",
    "\n",
    "print(result)"
   ]
  }
 ],
 "metadata": {
  "kernelspec": {
   "display_name": "Python 3",
   "language": "python",
   "name": "python3"
  },
  "language_info": {
   "codemirror_mode": {
    "name": "ipython",
    "version": 3
   },
   "file_extension": ".py",
   "mimetype": "text/x-python",
   "name": "python",
   "nbconvert_exporter": "python",
   "pygments_lexer": "ipython3",
   "version": "3.6.9"
  },
  "toc": {
   "base_numbering": 1,
   "nav_menu": {},
   "number_sections": true,
   "sideBar": true,
   "skip_h1_title": false,
   "title_cell": "Table of Contents",
   "title_sidebar": "Contents",
   "toc_cell": false,
   "toc_position": {},
   "toc_section_display": true,
   "toc_window_display": false
  }
 },
 "nbformat": 4,
 "nbformat_minor": 5
}
