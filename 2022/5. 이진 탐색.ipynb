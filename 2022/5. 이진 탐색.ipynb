{
 "cells": [
  {
   "cell_type": "markdown",
   "id": "2faab5af",
   "metadata": {},
   "source": [
    "# 이진 탐색\n",
    "\n",
    "순차 탐색 : 리스트 안에 있는 특정한 데이터를 찾기 위해 앞에서부터 데이터를 하나씩 확인하는 방법\n",
    "\n",
    "이진 탐색 : 정렬되어 있는 리스트에서 탐색 범위를 절반씩 좁혀가며 데이터를 탐색하는 방법\n",
    "\n",
    "단계마다 탐색 범위를 2로 나누는 것과 동일하므로 연산 횟수는 $ log_{2}N $에 비례"
   ]
  },
  {
   "cell_type": "markdown",
   "id": "cb5bed2f",
   "metadata": {},
   "source": [
    "## 재귀적 구현"
   ]
  },
  {
   "cell_type": "code",
   "execution_count": 4,
   "id": "01f401e6",
   "metadata": {
    "ExecuteTime": {
     "end_time": "2022-08-21T06:56:59.782744Z",
     "start_time": "2022-08-21T06:56:59.776446Z"
    }
   },
   "outputs": [],
   "source": [
    "def binary_search(array, target, start, end):\n",
    "    if start > end:\n",
    "        return None\n",
    "    mid = (start + end) // 2\n",
    "    \n",
    "    if array[mid] == target:\n",
    "        return mid\n",
    "    \n",
    "    elif array[mid] > target:\n",
    "        return binary_search(array, target, start, mid-1)\n",
    "    \n",
    "    else:\n",
    "        return binary_search(array, target, mid+1, end)"
   ]
  },
  {
   "cell_type": "code",
   "execution_count": 6,
   "id": "ed9fdcab",
   "metadata": {
    "ExecuteTime": {
     "end_time": "2022-08-21T07:00:11.279561Z",
     "start_time": "2022-08-21T07:00:01.165111Z"
    }
   },
   "outputs": [
    {
     "name": "stdout",
     "output_type": "stream",
     "text": [
      "10 7\n",
      "1 3 5 7 9 11 13 15 17 19\n",
      "4\n"
     ]
    }
   ],
   "source": [
    "n, target = map(int, input().split())\n",
    "array = list(map(int, input().split()))\n",
    "\n",
    "result = binary_search(array, target, 0, n-1)\n",
    "if result == None:\n",
    "    print('Not exist')\n",
    "else:\n",
    "    print(result+1)"
   ]
  },
  {
   "cell_type": "markdown",
   "id": "9b65b3bd",
   "metadata": {},
   "source": [
    "## 반복문 구현"
   ]
  },
  {
   "cell_type": "code",
   "execution_count": 7,
   "id": "1cbb52d4",
   "metadata": {
    "ExecuteTime": {
     "end_time": "2022-08-21T07:07:43.723834Z",
     "start_time": "2022-08-21T07:07:43.714158Z"
    }
   },
   "outputs": [],
   "source": [
    "def binary_search(array, target, start, end):\n",
    "    while start <= end:\n",
    "        mid = (start+end) // 2\n",
    "        if array[mid] == target:\n",
    "            return mid\n",
    "        elif array[mid] < target:\n",
    "            start = mid + 1\n",
    "        else:\n",
    "            end = mid - 1\n",
    "    return None"
   ]
  },
  {
   "cell_type": "code",
   "execution_count": 8,
   "id": "7d5f1498",
   "metadata": {
    "ExecuteTime": {
     "end_time": "2022-08-21T07:08:04.368995Z",
     "start_time": "2022-08-21T07:07:51.627592Z"
    }
   },
   "outputs": [
    {
     "name": "stdout",
     "output_type": "stream",
     "text": [
      "10 7\n",
      "1 3 5 6 9 11 13 15 17 19\n",
      "Not exist\n"
     ]
    }
   ],
   "source": [
    "n, target = map(int, input().split())\n",
    "array = list(map(int, input().split()))\n",
    "\n",
    "result = binary_search(array, target, 0, n-1)\n",
    "if result == None:\n",
    "    print('Not exist')\n",
    "else:\n",
    "    print(result+1)"
   ]
  },
  {
   "cell_type": "markdown",
   "id": "1ab9fa55",
   "metadata": {},
   "source": [
    "## 파이썬 이진 탐색 라이브러리\n",
    "\n",
    "- bisect_left(a, x): 정렬된 순서를 유지하면서 배열 a에 x를 삽입할 가장 왼쪽 인덱스를 반환\n",
    "- bisect_right(a, x): 정렬된 순서를 유지하면서 배열 a에 x를 삽입할 가장 오른쪽 인덱스를 반환"
   ]
  },
  {
   "cell_type": "code",
   "execution_count": 9,
   "id": "0323ace4",
   "metadata": {
    "ExecuteTime": {
     "end_time": "2022-08-21T07:14:44.703730Z",
     "start_time": "2022-08-21T07:14:44.693427Z"
    }
   },
   "outputs": [
    {
     "name": "stdout",
     "output_type": "stream",
     "text": [
      "2\n",
      "4\n"
     ]
    }
   ],
   "source": [
    "from bisect import bisect_left, bisect_right\n",
    "\n",
    "a = [1, 2, 4, 4, 8]\n",
    "x = 4\n",
    "\n",
    "print(bisect_left(a, x))\n",
    "print(bisect_right(a, x))"
   ]
  },
  {
   "cell_type": "markdown",
   "id": "afbdca61",
   "metadata": {},
   "source": [
    "## 값이 특정 범위에 속하는 데이터 개수 구하기"
   ]
  },
  {
   "cell_type": "code",
   "execution_count": 12,
   "id": "6b9fabfc",
   "metadata": {
    "ExecuteTime": {
     "end_time": "2022-08-21T07:18:54.391719Z",
     "start_time": "2022-08-21T07:18:54.383617Z"
    }
   },
   "outputs": [],
   "source": [
    "def count_by_range(a, left_value, right_value):\n",
    "    right_index = bisect_right(a, right_value)\n",
    "    left_index = bisect_left(a, left_value)\n",
    "    return right_index - left_index"
   ]
  },
  {
   "cell_type": "code",
   "execution_count": 13,
   "id": "68ef3a52",
   "metadata": {
    "ExecuteTime": {
     "end_time": "2022-08-21T07:18:54.876490Z",
     "start_time": "2022-08-21T07:18:54.870957Z"
    }
   },
   "outputs": [
    {
     "name": "stdout",
     "output_type": "stream",
     "text": [
      "2\n",
      "6\n"
     ]
    }
   ],
   "source": [
    "a = [1, 2, 3, 3, 3, 3, 4, 4, 8, 9]\n",
    "print(count_by_range(a, 4, 4))\n",
    "print(count_by_range(a, -1, 3))"
   ]
  },
  {
   "cell_type": "markdown",
   "id": "2c398d79",
   "metadata": {},
   "source": [
    "## 파라메트릭 서치\n",
    "\n",
    "최적화 문제를 결정 문제(yes or no)로 바꾸어 해결하는 기법\n",
    "\n",
    "ex) 특정한 조건을 만족하는 가장 알맞은 값을 빠르게 찾는 최적화 문제"
   ]
  },
  {
   "cell_type": "markdown",
   "id": "0fe42e1e",
   "metadata": {},
   "source": [
    "### 떡볶이 떡 만들기"
   ]
  },
  {
   "cell_type": "markdown",
   "id": "5a19093b",
   "metadata": {},
   "source": [
    "<입력 조건>\n",
    "- 첫째 줄에 떡의 개수 N과 요청한 떡의 길이 M이 주어짐\n",
    "- 둘째 줄에 떡의 개별 높이가 주어짐. 떡 높이의 총합은 항상 M 이상\n",
    "\n",
    "<출력 조건>\n",
    "- 적어도 M만큼의 떡을 집에 가져가기 위해 절단기에 설정할 수 있는 높이의 최댓값을 출력"
   ]
  },
  {
   "cell_type": "markdown",
   "id": "8d01a621",
   "metadata": {},
   "source": [
    "##### 탐색 범위가 큰 문제는 이진 탐색을 생각"
   ]
  },
  {
   "cell_type": "code",
   "execution_count": 14,
   "id": "16da4dd2",
   "metadata": {
    "ExecuteTime": {
     "end_time": "2022-08-21T07:31:57.170205Z",
     "start_time": "2022-08-21T07:31:49.772497Z"
    }
   },
   "outputs": [
    {
     "name": "stdout",
     "output_type": "stream",
     "text": [
      "4 6\n",
      "19 15 10 17\n"
     ]
    }
   ],
   "source": [
    "n, m = map(int, input().split())\n",
    "array = list(map(int, input().split()))"
   ]
  },
  {
   "cell_type": "code",
   "execution_count": 38,
   "id": "c1903035",
   "metadata": {
    "ExecuteTime": {
     "end_time": "2022-08-21T07:54:58.140790Z",
     "start_time": "2022-08-21T07:54:58.133670Z"
    }
   },
   "outputs": [
    {
     "name": "stdout",
     "output_type": "stream",
     "text": [
      "15\n"
     ]
    }
   ],
   "source": [
    "start = 0\n",
    "end = max(array)\n",
    "\n",
    "result = 0\n",
    "while (start <= end):\n",
    "    total = 0\n",
    "    mid = (start + end)//2\n",
    "    for x in array:\n",
    "        if x > mid:\n",
    "            total += x-mid\n",
    "    if total < m:\n",
    "        end = mid - 1\n",
    "    else:\n",
    "        result = mid\n",
    "        start = mid + 1\n",
    "\n",
    "print(result)"
   ]
  },
  {
   "cell_type": "markdown",
   "id": "dbd7a940",
   "metadata": {},
   "source": [
    "## 정렬된 배열에서 특정 수의 개수 구하기\n",
    "\n",
    "N 개의 원소를 포함하고 있는 수열이 오름차순으로 정렬되어 있음\n",
    "\n",
    "이 때 이 수열에서 x가 등장하는 횟수를 계산\n",
    "\n",
    "시간복잡도 : $ O(log_{2}N) $"
   ]
  },
  {
   "cell_type": "markdown",
   "id": "0ba4c265",
   "metadata": {},
   "source": [
    "<입력 조건>\n",
    "- 첫째 줄에 N과 x가 정수 형태로 공백으로 구분되어 입력\n",
    "- 둘째 줄에 N개의 원소가 정수 형태로 공백으로 구분되어 입력\n",
    "\n",
    "<출력 조건>\n",
    "- 수열의 원소 중에서 값이 x인 원소의 개수를 출력. 단, 값이 x인 원소가 하나도 없다면 -1을 출력"
   ]
  },
  {
   "cell_type": "code",
   "execution_count": 46,
   "id": "ddf1ec07",
   "metadata": {
    "ExecuteTime": {
     "end_time": "2022-08-21T08:16:08.175779Z",
     "start_time": "2022-08-21T08:16:01.126373Z"
    }
   },
   "outputs": [
    {
     "name": "stdout",
     "output_type": "stream",
     "text": [
      "7 2\n",
      "1 1 2 2 2 2 3\n",
      "4\n"
     ]
    }
   ],
   "source": [
    "n, x = map(int, input().split())\n",
    "array = list(map(int, input().split()))\n",
    "\n",
    "count = count_by_range(array, x, x)\n",
    "\n",
    "if count == 0:\n",
    "    print(-1)\n",
    "else:\n",
    "    print(count)"
   ]
  }
 ],
 "metadata": {
  "kernelspec": {
   "display_name": "Python 3",
   "language": "python",
   "name": "python3"
  },
  "language_info": {
   "codemirror_mode": {
    "name": "ipython",
    "version": 3
   },
   "file_extension": ".py",
   "mimetype": "text/x-python",
   "name": "python",
   "nbconvert_exporter": "python",
   "pygments_lexer": "ipython3",
   "version": "3.6.9"
  },
  "toc": {
   "base_numbering": 1,
   "nav_menu": {},
   "number_sections": true,
   "sideBar": true,
   "skip_h1_title": false,
   "title_cell": "Table of Contents",
   "title_sidebar": "Contents",
   "toc_cell": false,
   "toc_position": {},
   "toc_section_display": true,
   "toc_window_display": false
  }
 },
 "nbformat": 4,
 "nbformat_minor": 5
}
