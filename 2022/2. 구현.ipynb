{
 "cells": [
  {
   "cell_type": "markdown",
   "id": "81db06ec",
   "metadata": {},
   "source": [
    "# 구현\n",
    "- 머릿속에 있는 알고리즘을 소스코드로 바꾸는 과정\n",
    "- 풀이를 떠올리기는 쉽지만 코드로 옮기기 어려운 문제\n",
    "\n",
    "## 상하좌우\n",
    "A는 N x N 크기의 정사각형 공간 위에 있다. 가장 왼쪽 위 좌표는 (1,1)이며. 가장 오른쪽 아래 좌표는 (N,N)이다.\n",
    "\n",
    "A는 상, 하, 좌, 우 방향으로 이동할 수 있으며, 시작 좌표는 항상 (1,1)이다\n",
    "\n",
    "L : 왼쪽으로 한 칸 이동, R : 오른쪽으로 한 칸 이동\n",
    "\n",
    "U : 위로 한 칸 이동, D : 아래로 한 칸 이동\n",
    "\n",
    "단. A가 N x N을 벗어나는 움직임은 무시됨.\n",
    "\n",
    "<입력 조건>\n",
    "- 첫째 줄에 공간의 크기를 나타내는 N\n",
    "- 둘째 줄에 A가 이동할 계획\n",
    "\n",
    "<출력 조건>\n",
    "- A가 최종적으로 도착할 지점의 좌표를 출력"
   ]
  },
  {
   "cell_type": "code",
   "execution_count": 4,
   "id": "194a0cea",
   "metadata": {
    "ExecuteTime": {
     "end_time": "2022-08-18T16:48:06.673138Z",
     "start_time": "2022-08-18T16:47:53.185501Z"
    }
   },
   "outputs": [
    {
     "name": "stdout",
     "output_type": "stream",
     "text": [
      "5\n",
      "R R L\n",
      "1 2\n"
     ]
    }
   ],
   "source": [
    "n = int(input())\n",
    "data = list(input().split())\n",
    "\n",
    "x, y = 1, 1\n",
    "\n",
    "# R, L, U, D\n",
    "dx = [0, 0, -1, 1]\n",
    "dy = [1, -1, 0, 0]\n",
    "\n",
    "for i in data:\n",
    "    if i == 'R':\n",
    "        if y == n:\n",
    "            continue\n",
    "        else:\n",
    "            x += dx[0]\n",
    "            y += dy[0]\n",
    "    \n",
    "    elif i == 'L':\n",
    "        if y == 1:\n",
    "            continue\n",
    "        else:\n",
    "            x += dx[1]\n",
    "            y += dy[1]\n",
    "    \n",
    "    elif i == 'U':\n",
    "        if x == 1:\n",
    "            continue\n",
    "        else:\n",
    "            x += dx[2]\n",
    "            y += dy[2]\n",
    "            \n",
    "    else:\n",
    "        if x == n:\n",
    "            continue\n",
    "        else:\n",
    "            x += dx[3]\n",
    "            y += dy[3]\n",
    "            \n",
    "print(x,y)"
   ]
  },
  {
   "cell_type": "markdown",
   "id": "2caec98e",
   "metadata": {},
   "source": [
    "## 시각\n",
    "정수 N이 입력되면 00시 00분 00초부터 N시 59분 59초까지 모든 시각 중에서 3이 하나라도 포함되는 모든 경우의 수를 구하는 프로그램을 작성\n",
    "\n",
    "<입력 조건>\n",
    "- 첫째 줄에 정수 N이 입력\n",
    "\n",
    "<출력 조건>\n",
    "- 00시 00분 00초부터 N시 59분 59초까지의 모든 시각 중에서 3이 하나라도 포함되는 모든 경우의 수를 출력\n",
    "\n",
    "가능한 모든 시각의 경우를 하나씩 세서 풀 수 있는 문제\n",
    "\n",
    "이러한 유형은 완전 탐색(Brute Forcing) 문제 유형이라고 함"
   ]
  },
  {
   "cell_type": "code",
   "execution_count": 7,
   "id": "33788afe",
   "metadata": {
    "ExecuteTime": {
     "end_time": "2022-08-18T16:49:29.965850Z",
     "start_time": "2022-08-18T16:49:29.288782Z"
    },
    "scrolled": true
   },
   "outputs": [
    {
     "name": "stdout",
     "output_type": "stream",
     "text": [
      "3\n",
      "8325\n"
     ]
    }
   ],
   "source": [
    "n = int(input())\n",
    "\n",
    "count = 0\n",
    "\n",
    "for i in range(n+1):\n",
    "    for j in range(60):\n",
    "        for k in range(60):\n",
    "            if '3' in str(i)+str(j)+str(k):\n",
    "                count += 1\n",
    "print(count)"
   ]
  },
  {
   "cell_type": "markdown",
   "id": "35f221e4",
   "metadata": {},
   "source": [
    "## 왕실의 나이트\n",
    "\n",
    "행복 왕국의 왕실 정원은 체스판과 같은 8 x 8 좌표 평면.\n",
    "\n",
    "나이트는 L자 형태로만 이동할 수 있으며 정원 밖으로 나갈 수는 없다\n",
    "\n",
    "- 수평으로 두 칸 이동한 후 수직으로 한 칸 이동하기\n",
    "- 수직으로 두 칸 이동한 후 수평으로 한 칸 이동하기\n",
    "\n",
    "나이트의 위치가 주어졌을 때 이동할 수 있는 경우의 수를 출력\n",
    "\n",
    "<입력 조건>\n",
    "- 첫째 줄에 8 x 8 좌표 평면상에서 현재 나이트가 위치한 곳의 좌표를 나타내는 두 문자로 구성된 문자열 입력\n",
    "- ex) a1 : a열, 1행\n",
    "\n",
    "<출력 조건>\n",
    "- 첫째 줄에 나이트가 이동할 수 있는 경우의 수를 출력"
   ]
  },
  {
   "cell_type": "code",
   "execution_count": 9,
   "id": "67b703b8",
   "metadata": {
    "ExecuteTime": {
     "end_time": "2022-08-18T16:49:49.706784Z",
     "start_time": "2022-08-18T16:49:48.469038Z"
    }
   },
   "outputs": [
    {
     "name": "stdout",
     "output_type": "stream",
     "text": [
      "c5\n",
      "8\n"
     ]
    }
   ],
   "source": [
    "from string import ascii_lowercase\n",
    "\n",
    "alpha_list = list(ascii_lowercase)\n",
    "dict1 = []\n",
    "\n",
    "for i, alpha in enumerate(alpha_list):\n",
    "    dict1.append([alpha,i+1])\n",
    "\n",
    "alpha_dict = dict(dict1)\n",
    "\n",
    "w = input()\n",
    "\n",
    "count = 0\n",
    "\n",
    "dx = [2, 2, -2, -2, 1, 1, -1, -1]\n",
    "dy = [1, -1, 1, -1, 2, -2, 2, -2]\n",
    "\n",
    "\n",
    "x, y = alpha_dict[w[0]], int(w[1])\n",
    "\n",
    "for i in range(8):\n",
    "    new_x = x + dx[i]\n",
    "    new_y = y + dy[i]\n",
    "    if new_x >= 1 and new_x <= 8 and new_y >= 1 and new_y <= 8:\n",
    "        count += 1\n",
    "        \n",
    "print(count)"
   ]
  },
  {
   "cell_type": "markdown",
   "id": "99be929e",
   "metadata": {},
   "source": [
    "##### 문자의 유니코드 값을 출력해주는 ocd()을 사용하여 입력 받은 위치를 반환할 수 있다"
   ]
  },
  {
   "cell_type": "code",
   "execution_count": 13,
   "id": "1aee8515",
   "metadata": {
    "ExecuteTime": {
     "end_time": "2022-08-18T16:50:18.951666Z",
     "start_time": "2022-08-18T16:50:05.483205Z"
    }
   },
   "outputs": [
    {
     "name": "stdout",
     "output_type": "stream",
     "text": [
      "c5\n",
      "3 5\n"
     ]
    }
   ],
   "source": [
    "w = input()\n",
    "row = int(w[1])\n",
    "column = int(ord(w[0])) - int(ord('a')) + 1\n",
    "print(column, row)"
   ]
  },
  {
   "cell_type": "markdown",
   "id": "888b392e",
   "metadata": {},
   "source": [
    "## 문자열 재정렬\n",
    "알파벳 대문자와 숫자로만 구성된 문자열이 입력으로 주어질 때, 모든 알파벳을 오름차순으로 정렬하여 이어서 출력한 후 그 뒤에 모든 숫자를 더한 값을 이어서 출력.\n",
    "\n",
    "ex) K1KA5CB7 -> ABCKK13\n",
    "\n",
    "<입력 조건>\n",
    "- 첫째 줄에 하나의 문자열 S가 주어짐\n",
    "\n",
    "<출력 조건>\n",
    "- 정답을 출력"
   ]
  },
  {
   "cell_type": "code",
   "execution_count": 14,
   "id": "a923a795",
   "metadata": {
    "ExecuteTime": {
     "end_time": "2022-08-18T16:50:31.837408Z",
     "start_time": "2022-08-18T16:50:26.393936Z"
    }
   },
   "outputs": [
    {
     "name": "stdout",
     "output_type": "stream",
     "text": [
      "fsd32kd\n"
     ]
    }
   ],
   "source": [
    "data = input()"
   ]
  },
  {
   "cell_type": "code",
   "execution_count": 15,
   "id": "8c6477e0",
   "metadata": {
    "ExecuteTime": {
     "end_time": "2022-08-18T16:50:32.400865Z",
     "start_time": "2022-08-18T16:50:32.390198Z"
    }
   },
   "outputs": [
    {
     "name": "stdout",
     "output_type": "stream",
     "text": [
      "ddfks5\n"
     ]
    }
   ],
   "source": [
    "alpha = []\n",
    "num = 0\n",
    "\n",
    "for i in data:\n",
    "    if i.isalpha() == True:\n",
    "        alpha.append(i)\n",
    "    else:\n",
    "        num += int(i)\n",
    "\n",
    "alpha.sort()\n",
    "\n",
    "if num != 0:\n",
    "    alpha.append(str(num))\n",
    "\n",
    "print(''.join(alpha))"
   ]
  }
 ],
 "metadata": {
  "kernelspec": {
   "display_name": "Python 3",
   "language": "python",
   "name": "python3"
  },
  "language_info": {
   "codemirror_mode": {
    "name": "ipython",
    "version": 3
   },
   "file_extension": ".py",
   "mimetype": "text/x-python",
   "name": "python",
   "nbconvert_exporter": "python",
   "pygments_lexer": "ipython3",
   "version": "3.6.9"
  },
  "toc": {
   "base_numbering": 1,
   "nav_menu": {},
   "number_sections": true,
   "sideBar": true,
   "skip_h1_title": false,
   "title_cell": "Table of Contents",
   "title_sidebar": "Contents",
   "toc_cell": false,
   "toc_position": {},
   "toc_section_display": true,
   "toc_window_display": false
  }
 },
 "nbformat": 4,
 "nbformat_minor": 5
}
