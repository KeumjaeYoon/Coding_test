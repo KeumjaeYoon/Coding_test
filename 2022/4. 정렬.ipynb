{
 "cells": [
  {
   "cell_type": "markdown",
   "id": "2d6981f5",
   "metadata": {},
   "source": [
    "# 정렬\n",
    "\n",
    "정렬이란 데이터를 특정한 기준에 따라 순서대로 나열하는 것"
   ]
  },
  {
   "cell_type": "markdown",
   "id": "86dcf15f",
   "metadata": {},
   "source": [
    "## 선택 정렬\n",
    "\n",
    "처리되지 않은 데이터 중에서 가장 작은 데이터를 선택해 맨 앞에 있는 데이터와 바꾸는 것을 반복"
   ]
  },
  {
   "cell_type": "code",
   "execution_count": 2,
   "id": "f0d70737",
   "metadata": {
    "ExecuteTime": {
     "end_time": "2022-08-20T06:46:33.905549Z",
     "start_time": "2022-08-20T06:46:33.898068Z"
    }
   },
   "outputs": [
    {
     "name": "stdout",
     "output_type": "stream",
     "text": [
      "[0, 5, 9, 7, 3, 1, 6, 2, 4, 8]\n",
      "[0, 1, 9, 7, 3, 5, 6, 2, 4, 8]\n",
      "[0, 1, 2, 7, 3, 5, 6, 9, 4, 8]\n",
      "[0, 1, 2, 3, 7, 5, 6, 9, 4, 8]\n",
      "[0, 1, 2, 3, 4, 5, 6, 9, 7, 8]\n",
      "[0, 1, 2, 3, 4, 5, 6, 9, 7, 8]\n",
      "[0, 1, 2, 3, 4, 5, 6, 9, 7, 8]\n",
      "[0, 1, 2, 3, 4, 5, 6, 7, 9, 8]\n",
      "[0, 1, 2, 3, 4, 5, 6, 7, 8, 9]\n",
      "[0, 1, 2, 3, 4, 5, 6, 7, 8, 9]\n"
     ]
    }
   ],
   "source": [
    "array = [7, 5, 9, 0, 3, 1, 6, 2, 4, 8]\n",
    "\n",
    "for i in range(len(array)):\n",
    "    min_index = i\n",
    "    for j in range(i+1, len(array)):\n",
    "        if array[min_index] > array[j]:\n",
    "            min_index = j\n",
    "    array[i], array[min_index] = array[min_index], array[i]\n",
    "    print(array)"
   ]
  },
  {
   "cell_type": "markdown",
   "id": "fc3c6770",
   "metadata": {},
   "source": [
    "전체 연산 횟수는 N + (N - 1) + (N - 2) + ... + 2 = (N^2 + N -2) / 2\n",
    "\n",
    "빅오 표기법에 따라 O(N^2)"
   ]
  },
  {
   "cell_type": "markdown",
   "id": "2df3a6e5",
   "metadata": {},
   "source": [
    "## 삽입 정렬\n",
    "\n",
    "처리되지 않은 데이터를 하나씩 골라 적절한 위치에 삽입\n",
    "\n",
    "선택 정렬에 비해 난이도가 높지만 더 효율적으로 작동"
   ]
  },
  {
   "cell_type": "code",
   "execution_count": 9,
   "id": "3afb2322",
   "metadata": {
    "ExecuteTime": {
     "end_time": "2022-08-20T07:01:51.001158Z",
     "start_time": "2022-08-20T07:01:50.993405Z"
    }
   },
   "outputs": [
    {
     "name": "stdout",
     "output_type": "stream",
     "text": [
      "[5, 7, 9, 0, 3, 1, 6, 2, 4, 8]\n",
      "[5, 7, 9, 0, 3, 1, 6, 2, 4, 8]\n",
      "[0, 5, 7, 9, 3, 1, 6, 2, 4, 8]\n",
      "[0, 3, 5, 7, 9, 1, 6, 2, 4, 8]\n",
      "[0, 1, 3, 5, 7, 9, 6, 2, 4, 8]\n",
      "[0, 1, 3, 5, 6, 7, 9, 2, 4, 8]\n",
      "[0, 1, 2, 3, 5, 6, 7, 9, 4, 8]\n",
      "[0, 1, 2, 3, 4, 5, 6, 7, 9, 8]\n",
      "[0, 1, 2, 3, 4, 5, 6, 7, 8, 9]\n"
     ]
    }
   ],
   "source": [
    "array = [7, 5, 9, 0, 3, 1, 6, 2, 4, 8]\n",
    "\n",
    "for i in range(1, len(array)):\n",
    "    for j in range(i, 0 , -1):\n",
    "        if array[j] < array[j-1]:\n",
    "            array[j], array[j-1] = array[j-1], array[j]\n",
    "        else:\n",
    "            break\n",
    "    print(array)"
   ]
  },
  {
   "cell_type": "markdown",
   "id": "4d4153c9",
   "metadata": {},
   "source": [
    "## 퀵 정렬\n",
    "\n",
    "기준 데이터를 설정하고 기준보다 큰 데이터와 작은데이터의 위치를 바꾸는 방법\n",
    "\n",
    "첫 번째 데이터를 기준 데이터(Pivot)로 설정\n",
    "\n",
    "평균의 경우 O(NlogN)의 시간 복잡도를 가지고 최악의 경우 O(N^2)의 시간 복잡도를 가짐"
   ]
  },
  {
   "cell_type": "code",
   "execution_count": 18,
   "id": "ea02b27a",
   "metadata": {
    "ExecuteTime": {
     "end_time": "2022-08-20T08:04:38.666542Z",
     "start_time": "2022-08-20T08:04:38.655492Z"
    }
   },
   "outputs": [
    {
     "name": "stdout",
     "output_type": "stream",
     "text": [
      "[0, 1, 2, 3, 4, 5, 6, 7, 8, 9]\n"
     ]
    }
   ],
   "source": [
    "array = [5, 7, 9, 0, 3, 1, 6, 2, 4, 8]\n",
    "\n",
    "def quick_sort(array, start, end):\n",
    "    if start >= end:\n",
    "        return\n",
    "    pivot = start\n",
    "    left = start + 1\n",
    "    right = end\n",
    "    \n",
    "    while (left <= right):\n",
    "        while (left <= end and array[left] <= array[pivot]):\n",
    "            left += 1\n",
    "        while (right > start and array[right] >= array[pivot]):\n",
    "            right -= 1\n",
    "        if (left > right):\n",
    "            array[right], array[pivot] = array[pivot], array[right]\n",
    "        else:\n",
    "            array[left], array[right] = array[right], array[left]\n",
    "    \n",
    "    quick_sort(array, start, right-1)\n",
    "    quick_sort(array, right+1, end)\n",
    "    \n",
    "quick_sort(array, 0, len(array)-1)\n",
    "print(array)"
   ]
  },
  {
   "cell_type": "code",
   "execution_count": 14,
   "id": "327c4f22",
   "metadata": {
    "ExecuteTime": {
     "end_time": "2022-08-20T08:01:26.454082Z",
     "start_time": "2022-08-20T08:01:26.446106Z"
    }
   },
   "outputs": [
    {
     "name": "stdout",
     "output_type": "stream",
     "text": [
      "[0, 1, 2, 3, 4, 5, 6, 7, 8, 9]\n"
     ]
    }
   ],
   "source": [
    "array = [5, 7, 9, 0, 3, 1, 6, 2, 4, 8]\n",
    "\n",
    "def quick_sort(array):\n",
    "    if len(array) <= 1:\n",
    "        return array\n",
    "    pivot = array[0]\n",
    "    tail = array[1:]\n",
    "    \n",
    "    left_side = [x for x in tail if x <= pivot]\n",
    "    right_side = [x for x in tail if x > pivot]\n",
    "    \n",
    "    return quick_sort(left_side) + [pivot] + quick_sort(right_side)\n",
    "\n",
    "print(quick_sort(array))"
   ]
  },
  {
   "cell_type": "markdown",
   "id": "9dba71d3",
   "metadata": {},
   "source": [
    "## 계수 정렬\n",
    "\n",
    "특정한 조건(동일한 값을 가지는 데이터의 출현)이 부합할 때만 사용할 수 있지만 매우 빠르게 동작하는 정렬 알고리즘\n",
    "- 데이터의 크기 범위가 제한되어 정수 형태로 표현할 수 있을때 사용 가능\n",
    "- 데이터의 개수가 N, 데이터 중 최댓값이 K일 때, 최악의 경우에도 수행 시간 O(N + K)를 보장"
   ]
  },
  {
   "cell_type": "code",
   "execution_count": 20,
   "id": "f3cd7462",
   "metadata": {
    "ExecuteTime": {
     "end_time": "2022-08-20T08:48:27.140143Z",
     "start_time": "2022-08-20T08:48:27.132321Z"
    }
   },
   "outputs": [
    {
     "name": "stdout",
     "output_type": "stream",
     "text": [
      "0 0 1 1 2 2 3 4 5 5 6 7 8 9 9 "
     ]
    }
   ],
   "source": [
    "array = [7, 5, 9, 0, 3, 1, 6, 2, 9, 1, 4, 8, 0, 5, 2]\n",
    "\n",
    "count = [0]*(max(array)+1)\n",
    "\n",
    "for i in range(len(array)):\n",
    "    count[array[i]] += 1\n",
    "\n",
    "for i in range(len(count)):\n",
    "    for j in range(count[i]):\n",
    "        print(i, end=' ')"
   ]
  },
  {
   "cell_type": "markdown",
   "id": "b9690a17",
   "metadata": {},
   "source": [
    "## 두 배열의 원소 교체\n",
    "\n",
    "두 개의 배열 A, B 존재. 두 배열은 N개의 원소로 구성되어 있으며 원소는 모두 자연수로 구성\n",
    "\n",
    "A에 있는 원소 하나와 B에 있는 원소 하나를 최대 K번까지 바꿔치기 가능\n",
    "\n",
    "N, K, A, B의 정보가 주어졌을 때, 최대 K번의 바꿔치기를 통해 배열 A의 모든 원소의 합의 최댓값을 출력하는 프로그램 작성"
   ]
  },
  {
   "cell_type": "code",
   "execution_count": 28,
   "id": "60cbe470",
   "metadata": {
    "ExecuteTime": {
     "end_time": "2022-08-20T11:12:31.690210Z",
     "start_time": "2022-08-20T11:12:11.887604Z"
    }
   },
   "outputs": [
    {
     "name": "stdout",
     "output_type": "stream",
     "text": [
      "5 3\n",
      "1 2 5 4 3\n",
      "5 5 6 6 5\n"
     ]
    }
   ],
   "source": [
    "n, k = map(int, input().split())\n",
    "a = list(map(int, input().split()))\n",
    "b = list(map(int, input().split()))"
   ]
  },
  {
   "cell_type": "code",
   "execution_count": 29,
   "id": "25147477",
   "metadata": {
    "ExecuteTime": {
     "end_time": "2022-08-20T11:12:33.161591Z",
     "start_time": "2022-08-20T11:12:33.155361Z"
    }
   },
   "outputs": [
    {
     "name": "stdout",
     "output_type": "stream",
     "text": [
      "26\n"
     ]
    }
   ],
   "source": [
    "a.sort()\n",
    "b.sort(reverse=True)\n",
    "\n",
    "for i in range(k):\n",
    "    if a[i] < b[i]:\n",
    "        a[i], b[i] = b[i], a[i]\n",
    "    else:\n",
    "        break\n",
    "        \n",
    "print(sum(a))"
   ]
  }
 ],
 "metadata": {
  "kernelspec": {
   "display_name": "Python 3",
   "language": "python",
   "name": "python3"
  },
  "language_info": {
   "codemirror_mode": {
    "name": "ipython",
    "version": 3
   },
   "file_extension": ".py",
   "mimetype": "text/x-python",
   "name": "python",
   "nbconvert_exporter": "python",
   "pygments_lexer": "ipython3",
   "version": "3.6.9"
  },
  "toc": {
   "base_numbering": 1,
   "nav_menu": {},
   "number_sections": true,
   "sideBar": true,
   "skip_h1_title": false,
   "title_cell": "Table of Contents",
   "title_sidebar": "Contents",
   "toc_cell": false,
   "toc_position": {},
   "toc_section_display": true,
   "toc_window_display": false
  }
 },
 "nbformat": 4,
 "nbformat_minor": 5
}
