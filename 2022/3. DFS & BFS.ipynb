{
 "cells": [
  {
   "cell_type": "markdown",
   "id": "4bc0684b",
   "metadata": {},
   "source": [
    "# DFS & BFS"
   ]
  },
  {
   "cell_type": "markdown",
   "id": "d5bbe280",
   "metadata": {},
   "source": [
    "탐색이란 많은 양의 데이터 중에서 원하는 데이터를 찾는 과정\n",
    "\n",
    "DFS, BFS는 대표적인 그래프 탐색 알고리즘"
   ]
  },
  {
   "cell_type": "markdown",
   "id": "09b6fceb",
   "metadata": {},
   "source": [
    "## 스택"
   ]
  },
  {
   "cell_type": "markdown",
   "id": "d766f3a3",
   "metadata": {},
   "source": [
    "먼저 들어온 데이터가 나중에 나가는 형식의 자료구조"
   ]
  },
  {
   "cell_type": "code",
   "execution_count": 3,
   "id": "1784f7d5",
   "metadata": {
    "ExecuteTime": {
     "end_time": "2022-07-15T13:24:36.253524Z",
     "start_time": "2022-07-15T13:24:36.243473Z"
    }
   },
   "outputs": [
    {
     "name": "stdout",
     "output_type": "stream",
     "text": [
      "[5, 2, 3, 1]\n"
     ]
    }
   ],
   "source": [
    "stack = []\n",
    "stack.append(5)\n",
    "stack.append(2)\n",
    "stack.append(3)\n",
    "stack.append(7)\n",
    "stack.pop()\n",
    "stack.append(1)\n",
    "stack.append(4)\n",
    "stack.pop()\n",
    "\n",
    "print(stack) # 최하단 원소부터 출력\n",
    "print(stack[::-1]) # 최상단 원소부터 출력"
   ]
  },
  {
   "cell_type": "markdown",
   "id": "f735a341",
   "metadata": {},
   "source": [
    "## 큐"
   ]
  },
  {
   "cell_type": "markdown",
   "id": "9d4e9d60",
   "metadata": {},
   "source": [
    "먼저 들어온 데이터가 먼저 나가는 형식의 자료구조"
   ]
  },
  {
   "cell_type": "code",
   "execution_count": 5,
   "id": "ca285e25",
   "metadata": {
    "ExecuteTime": {
     "end_time": "2022-07-15T13:32:35.314960Z",
     "start_time": "2022-07-15T13:32:35.303358Z"
    }
   },
   "outputs": [
    {
     "name": "stdout",
     "output_type": "stream",
     "text": [
      "deque([3, 7, 1, 4])\n",
      "deque([4, 1, 7, 3])\n"
     ]
    }
   ],
   "source": [
    "from collections import deque\n",
    "\n",
    "queue = deque()\n",
    "\n",
    "queue.append(5)\n",
    "queue.append(2)\n",
    "queue.append(3)\n",
    "queue.append(7)\n",
    "queue.popleft()\n",
    "queue.append(1)\n",
    "queue.append(4)\n",
    "queue.popleft()\n",
    "\n",
    "print(queue) # 먼저 들어온 순서대로 출력\n",
    "queue.reverse()\n",
    "print(queue) # 나중에 들어온 원소부터 출력"
   ]
  },
  {
   "cell_type": "markdown",
   "id": "1a5ac574",
   "metadata": {},
   "source": [
    "## 재귀함수"
   ]
  },
  {
   "cell_type": "markdown",
   "id": "7623ea61",
   "metadata": {},
   "source": [
    "자기 자신을 다시 호출하는 함수\n",
    "\n",
    "어느 정도 출력하다가 최대 재귀 깊이를 초과하면 에러 발생\n",
    "\n",
    "스택을 사용해야 할 때 구현상 스택 라이브러리 대신 재귀함수를 이용하는 경우가 많음"
   ]
  },
  {
   "cell_type": "code",
   "execution_count": 7,
   "id": "38a5e887",
   "metadata": {
    "ExecuteTime": {
     "end_time": "2022-07-15T14:12:06.745217Z",
     "start_time": "2022-07-15T14:12:06.739606Z"
    }
   },
   "outputs": [],
   "source": [
    "def recursive_func():\n",
    "    print('recursive')\n",
    "    recursive_func()\n",
    "    \n",
    "# recursive_func()"
   ]
  },
  {
   "cell_type": "markdown",
   "id": "91a237a4",
   "metadata": {},
   "source": [
    "문제 풀이에 재귀함수를 사용하는 경우 종료 조건을 명시"
   ]
  },
  {
   "cell_type": "code",
   "execution_count": 11,
   "id": "7a2362fa",
   "metadata": {
    "ExecuteTime": {
     "end_time": "2022-07-15T14:19:56.119044Z",
     "start_time": "2022-07-15T14:19:56.103912Z"
    }
   },
   "outputs": [
    {
     "name": "stdout",
     "output_type": "stream",
     "text": [
      "1 호출\n",
      "2 호출\n",
      "3 호출\n",
      "4 호출\n",
      "5 호출\n",
      "6 호출\n",
      "7 호출\n",
      "8 호출\n",
      "9 호출\n",
      "9 종료\n",
      "8 종료\n",
      "7 종료\n",
      "6 종료\n",
      "5 종료\n",
      "4 종료\n",
      "3 종료\n",
      "2 종료\n",
      "1 종료\n"
     ]
    }
   ],
   "source": [
    "def recursive_func(i):\n",
    "    if i == 10:\n",
    "        return\n",
    "    print(i, '호출')\n",
    "    recursive_func(i+1)\n",
    "    print(i, '종료')\n",
    "\n",
    "recursive_func(1)"
   ]
  },
  {
   "cell_type": "markdown",
   "id": "65ef57aa",
   "metadata": {},
   "source": [
    "## 팩토리얼 구현"
   ]
  },
  {
   "cell_type": "code",
   "execution_count": 12,
   "id": "f9de31b8",
   "metadata": {
    "ExecuteTime": {
     "end_time": "2022-07-15T14:24:17.973828Z",
     "start_time": "2022-07-15T14:24:17.967406Z"
    }
   },
   "outputs": [],
   "source": [
    "def factorial(n):\n",
    "    result = 1\n",
    "    for i in range(n):\n",
    "        result *= (i+1)\n",
    "    return result"
   ]
  },
  {
   "cell_type": "code",
   "execution_count": 18,
   "id": "58f61553",
   "metadata": {
    "ExecuteTime": {
     "end_time": "2022-07-15T14:26:56.566936Z",
     "start_time": "2022-07-15T14:26:56.561016Z"
    }
   },
   "outputs": [],
   "source": [
    "def factorial_recursive(n):\n",
    "    if n == 1:\n",
    "        return 1\n",
    "    return n * factorial_recursive(n-1)"
   ]
  },
  {
   "cell_type": "code",
   "execution_count": 19,
   "id": "18845ae7",
   "metadata": {
    "ExecuteTime": {
     "end_time": "2022-07-15T14:27:16.531932Z",
     "start_time": "2022-07-15T14:27:16.525514Z"
    }
   },
   "outputs": [
    {
     "name": "stdout",
     "output_type": "stream",
     "text": [
      "120\n",
      "120\n"
     ]
    }
   ],
   "source": [
    "print(factorial(5))\n",
    "print(factorial_recursive(5))"
   ]
  },
  {
   "cell_type": "markdown",
   "id": "a67b9f9e",
   "metadata": {},
   "source": [
    "## 최대공약수 계산"
   ]
  },
  {
   "cell_type": "markdown",
   "id": "71a16e7b",
   "metadata": {},
   "source": [
    "두 개의 자연수에 대한 최대공약수를 구하는 알고리즘으로 유클리드 호제법 존재\n",
    "\n",
    "유클리드 호제법\n",
    "- 두 자연수 A, B에 대해 (A > B) A를 B로 나눈 나머지를 R\n",
    "- 이 때 A와 B의 최대공약수는 B와 R의 최대공약수와 같다"
   ]
  },
  {
   "cell_type": "code",
   "execution_count": 35,
   "id": "62282d9a",
   "metadata": {
    "ExecuteTime": {
     "end_time": "2022-07-15T14:45:17.954087Z",
     "start_time": "2022-07-15T14:45:17.947972Z"
    }
   },
   "outputs": [],
   "source": [
    "def uclidean_algorithm(a, b):\n",
    "    if a%b == 0:\n",
    "        return b\n",
    "    else:\n",
    "        return uclidean_algorithm(b, a%b)"
   ]
  },
  {
   "cell_type": "code",
   "execution_count": 36,
   "id": "5a961e44",
   "metadata": {
    "ExecuteTime": {
     "end_time": "2022-07-15T14:45:18.494077Z",
     "start_time": "2022-07-15T14:45:18.488059Z"
    }
   },
   "outputs": [
    {
     "name": "stdout",
     "output_type": "stream",
     "text": [
      "6\n"
     ]
    }
   ],
   "source": [
    "print(uclidean_algorithm(192, 162))"
   ]
  },
  {
   "cell_type": "markdown",
   "id": "6ba6e766",
   "metadata": {},
   "source": [
    "## DFS (Depth-First Search)\n",
    "\n",
    "그래프에서 깊은 부분을 우선적으로 탐색하는 알고리즘으로 스택 자료구조 혹은 재귀 함수를 이용.\n",
    "1. 탐색 시작 노드를 스택에 삽입하고 방문 처리\n",
    "2. 스택의 최상단 노드에 방문하지 않은 인접한 노드가 하나라도 있으면 그 노드를 스택에 넣고 방문 처리\n",
    "3. 방문하지 않은 인접 노드가 없으면 스택에서 최상단 노드를 꺼냄\n",
    "4. 2번의 과정을 수행할 수 없을 때까지 반복"
   ]
  },
  {
   "cell_type": "markdown",
   "id": "a4701071",
   "metadata": {},
   "source": [
    "### 전체 노드의 탐색 순서"
   ]
  },
  {
   "cell_type": "code",
   "execution_count": 11,
   "id": "3c745a02",
   "metadata": {
    "ExecuteTime": {
     "end_time": "2022-08-04T09:33:39.402974Z",
     "start_time": "2022-08-04T09:33:39.395385Z"
    }
   },
   "outputs": [],
   "source": [
    "def dfs_recursive(graph, v, visited):\n",
    "    visited[v] = True\n",
    "    print(v, end = ' ')\n",
    "    for i in graph[v]:\n",
    "        if not visited[i]:\n",
    "            dfs(graph, i, visited)"
   ]
  },
  {
   "cell_type": "code",
   "execution_count": 31,
   "id": "2fb7f578",
   "metadata": {
    "ExecuteTime": {
     "end_time": "2022-08-04T10:29:13.880221Z",
     "start_time": "2022-08-04T10:29:13.872742Z"
    }
   },
   "outputs": [],
   "source": [
    "graph = [[], [2,3,8], [1,8,7], [1,4,5], [3,5], [3,4], [7], [2,6,8], [1,7]]\n",
    "visited = [False] * 9"
   ]
  },
  {
   "cell_type": "code",
   "execution_count": 13,
   "id": "2d2b46a4",
   "metadata": {
    "ExecuteTime": {
     "end_time": "2022-08-04T09:33:40.791099Z",
     "start_time": "2022-08-04T09:33:40.783995Z"
    }
   },
   "outputs": [
    {
     "name": "stdout",
     "output_type": "stream",
     "text": [
      "1 2 8 7 6 3 4 5 "
     ]
    }
   ],
   "source": [
    "dfs(graph, 1, visited)"
   ]
  },
  {
   "cell_type": "markdown",
   "id": "d92d03fb",
   "metadata": {},
   "source": [
    "## BFS (Breadth-First Search)\n",
    "\n",
    "그래프에서 가까운 노드부터 우선적으로 탐색하는 알고리즘으로 큐 자료구조를 이용\n",
    "\n",
    "1. 탐색 시작 노드를 큐에 삽입하고 방문 처리\n",
    "2. 큐에서 노드를 꺼낸 뒤에 해당 노드의 인접 노드 중에서 방문하지 않은 노드를 모두 큐에 삽입하고 방문 처리\n",
    "3. 2번의 과정을 수행할 수 없을 때까지 반복"
   ]
  },
  {
   "cell_type": "code",
   "execution_count": 1,
   "id": "ffad380e",
   "metadata": {
    "ExecuteTime": {
     "end_time": "2022-08-18T15:27:56.179681Z",
     "start_time": "2022-08-18T15:27:56.163568Z"
    }
   },
   "outputs": [],
   "source": [
    "from collections import deque"
   ]
  },
  {
   "cell_type": "code",
   "execution_count": 45,
   "id": "fd95e9d9",
   "metadata": {
    "ExecuteTime": {
     "end_time": "2022-08-04T12:01:09.162137Z",
     "start_time": "2022-08-04T12:01:09.152492Z"
    }
   },
   "outputs": [],
   "source": [
    "def bfs(graph, start, visited):\n",
    "    queue = deque([start])\n",
    "    visited[start] = True\n",
    "    while queue:\n",
    "        v = queue.popleft()\n",
    "        print(v, end = ' ')\n",
    "        for i in graph[v]:\n",
    "            if not visited[i]:\n",
    "                queue.append(i)\n",
    "                visited[i] = True"
   ]
  },
  {
   "cell_type": "code",
   "execution_count": 46,
   "id": "391e2c3c",
   "metadata": {
    "ExecuteTime": {
     "end_time": "2022-08-04T12:01:09.379262Z",
     "start_time": "2022-08-04T12:01:09.371858Z"
    }
   },
   "outputs": [],
   "source": [
    "graph = [[], [2,3,8], [1,8,7], [1,4,5], [3,5], [3,4], [7], [2,6,8], [1,7]]\n",
    "visited = [False] * 9"
   ]
  },
  {
   "cell_type": "code",
   "execution_count": 47,
   "id": "f83e119b",
   "metadata": {
    "ExecuteTime": {
     "end_time": "2022-08-04T12:01:09.571716Z",
     "start_time": "2022-08-04T12:01:09.565163Z"
    }
   },
   "outputs": [
    {
     "name": "stdout",
     "output_type": "stream",
     "text": [
      "1 2 3 8 7 4 5 6 "
     ]
    }
   ],
   "source": [
    "bfs(graph, 1, visited)"
   ]
  },
  {
   "cell_type": "markdown",
   "id": "1a7e69e5",
   "metadata": {},
   "source": [
    "## 음료수 얼려 먹기\n",
    "\n",
    "N x M 크기의 얼음 틀에 구멍이 뚫려있는 부분은 0, 칸막이가 존재하는 부분은 1로 표시.\n",
    "\n",
    "구멍이 뚫려있는 부분끼리 상, 하, 좌, 우로 붙어있는 경우 서로 연결되어 있는 것으로 간주.\n",
    "\n",
    "이 때 얼음 틀의 모양이 주어졌을 때 생성되는 총 아이스크림의 개수를 구하는 프로그램"
   ]
  },
  {
   "cell_type": "markdown",
   "id": "a880de1f",
   "metadata": {},
   "source": [
    "<입력 조건>\n",
    "\n",
    "- 첫 번째 줄에 얼음 틀의 세로 길이 N과 가로 길이 M이 주어짐.\n",
    "- 두 번째 줄부터 N + 1번째 줄까지 얼음 틀의 형태가 주어짐.(0 or 1)\n",
    "\n",
    "<출력 조건>\n",
    "- 한 번에 만들 수 있는 아이스크림의 개수를 출력"
   ]
  },
  {
   "cell_type": "code",
   "execution_count": 2,
   "id": "4325969c",
   "metadata": {
    "ExecuteTime": {
     "end_time": "2022-08-09T13:25:18.823980Z",
     "start_time": "2022-08-09T13:25:18.817162Z"
    }
   },
   "outputs": [],
   "source": [
    "def dfs(x, y):\n",
    "    if x == -1 or x ==n or y == -1 or y == m:\n",
    "        return False\n",
    "    if graph[x][y] == 0:\n",
    "        graph[x][y] = 1\n",
    "        dfs(x-1,y)\n",
    "        dfs(x+1,y)\n",
    "        dfs(x,y-1)\n",
    "        dfs(x,y+1)\n",
    "        return True\n",
    "    return False"
   ]
  },
  {
   "cell_type": "code",
   "execution_count": 3,
   "id": "66d036bc",
   "metadata": {
    "ExecuteTime": {
     "end_time": "2022-08-09T13:25:25.011077Z",
     "start_time": "2022-08-09T13:25:19.005626Z"
    }
   },
   "outputs": [
    {
     "name": "stdout",
     "output_type": "stream",
     "text": [
      "3 3\n",
      "110\n",
      "010\n",
      "011\n",
      "2\n"
     ]
    }
   ],
   "source": [
    "n, m = map(int, input().split())\n",
    "\n",
    "graph = []\n",
    "for i in range(n):\n",
    "    graph.append(list(map(int, input())))\n",
    "    \n",
    "count = 0\n",
    "for i in range(n):\n",
    "    for j in range(m):\n",
    "        if dfs(i,j):\n",
    "            count +=1\n",
    "print(count)"
   ]
  },
  {
   "cell_type": "markdown",
   "id": "7003c9a2",
   "metadata": {},
   "source": [
    "## 미로 탈출\n",
    "\n",
    "N x M 크기의 미로. 처음 위치는 (1, 1)에 위치하고 미로의 출구는 (N, M)에 위치함.\n",
    "\n",
    "한 번에 한 칸씩 이동할 수 있으며 0에는 괴물이 존재하고 1에는 괴물이 없음.\n",
    "\n",
    "괴물을 피해 탈출하기 위해 움직여야하는 최소 칸의 개수 구하기\n",
    "\n",
    "시작 칸과 마지막 칸을 모두 포함해서 카운트\n",
    "\n",
    "<입력 조건>\n",
    "\n",
    "- 첫째 줄에 두 정수 N, M 입력\n",
    "- 둘째 줄에는 미로의 정보 입력 (0 or 1)\n",
    "- 각각의 수들은 공백없이 붙어서 입력. 시작 칸과 마지막 칸은 항상 1\n",
    "\n",
    "<출력 조건>\n",
    "\n",
    "- 최소 이동 칸의 개수를 출력"
   ]
  },
  {
   "cell_type": "code",
   "execution_count": 13,
   "id": "d18a9d45",
   "metadata": {
    "ExecuteTime": {
     "end_time": "2022-08-18T16:12:10.828737Z",
     "start_time": "2022-08-18T16:12:10.819405Z"
    }
   },
   "outputs": [],
   "source": [
    "def bfs(x, y):\n",
    "    dx = [1, -1, 0, 0]\n",
    "    dy = [0, 0, -1, 1]\n",
    "    queue = deque()\n",
    "    queue.append((x, y))\n",
    "    while queue: # 큐가 빌 때까지 반복\n",
    "        x, y = queue.popleft()\n",
    "        for i in range(4):\n",
    "            nx = x + dx[i]\n",
    "            ny = y+ dy[i]\n",
    "            if nx < 0 or nx >= n or ny < 0 or ny >= m:\n",
    "                continue\n",
    "            if graph[nx][ny] == 0:\n",
    "                continue\n",
    "            if graph[nx][ny] == 1:\n",
    "                graph[nx][ny] = graph[x][y] + 1\n",
    "                queue.append((nx, ny))\n",
    "    return graph"
   ]
  },
  {
   "cell_type": "code",
   "execution_count": 16,
   "id": "a02a298d",
   "metadata": {
    "ExecuteTime": {
     "end_time": "2022-08-18T16:13:36.968126Z",
     "start_time": "2022-08-18T16:13:17.073595Z"
    }
   },
   "outputs": [
    {
     "name": "stdout",
     "output_type": "stream",
     "text": [
      "5 5\n",
      "1 1 1 1 1\n",
      "1 1 1 1 1\n",
      "1 1 0 1 1\n",
      "1 1 1 1 1\n",
      "1 1 1 1 1\n"
     ]
    }
   ],
   "source": [
    "n, m = map(int, input().split())\n",
    "\n",
    "graph = []\n",
    "for i in range(n):\n",
    "    graph.append(list(map(int, input().split())))"
   ]
  },
  {
   "cell_type": "code",
   "execution_count": 17,
   "id": "7af9a135",
   "metadata": {
    "ExecuteTime": {
     "end_time": "2022-08-18T16:13:40.503590Z",
     "start_time": "2022-08-18T16:13:40.497676Z"
    }
   },
   "outputs": [
    {
     "data": {
      "text/plain": [
       "[[3, 2, 3, 4, 5],\n",
       " [2, 3, 4, 5, 6],\n",
       " [3, 4, 0, 6, 7],\n",
       " [4, 5, 6, 7, 8],\n",
       " [5, 6, 7, 8, 9]]"
      ]
     },
     "execution_count": 17,
     "metadata": {},
     "output_type": "execute_result"
    }
   ],
   "source": [
    "bfs(0,0)"
   ]
  }
 ],
 "metadata": {
  "kernelspec": {
   "display_name": "Python 3",
   "language": "python",
   "name": "python3"
  },
  "language_info": {
   "codemirror_mode": {
    "name": "ipython",
    "version": 3
   },
   "file_extension": ".py",
   "mimetype": "text/x-python",
   "name": "python",
   "nbconvert_exporter": "python",
   "pygments_lexer": "ipython3",
   "version": "3.6.9"
  },
  "toc": {
   "base_numbering": 1,
   "nav_menu": {},
   "number_sections": true,
   "sideBar": true,
   "skip_h1_title": false,
   "title_cell": "Table of Contents",
   "title_sidebar": "Contents",
   "toc_cell": false,
   "toc_position": {},
   "toc_section_display": true,
   "toc_window_display": false
  }
 },
 "nbformat": 4,
 "nbformat_minor": 5
}
